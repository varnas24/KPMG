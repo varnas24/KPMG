{
 "cells": [
  {
   "cell_type": "code",
   "execution_count": 2,
   "id": "0b6b15cf",
   "metadata": {},
   "outputs": [],
   "source": [
    "import pandas as pd\n",
    "import seaborn as sns\n",
    "\n",
    "import matplotlib.pyplot as plt\n",
    "import numpy as np\n",
    "import datetime as dt\n",
    "\n",
    "import missingno as msno\n",
    "from textwrap import wrap\n",
    "\n",
    "import warnings\n",
    "warnings.filterwarnings('ignore')"
   ]
  },
  {
   "cell_type": "code",
   "execution_count": 3,
   "id": "30ea51e0",
   "metadata": {},
   "outputs": [],
   "source": [
    "cust_list = pd.read_excel('KPMG_VI_New_raw_data_update_final - Edited.xlsx', sheet_name='NewCustomerList')"
   ]
  },
  {
   "cell_type": "code",
   "execution_count": 3,
   "id": "0a57f7c7",
   "metadata": {},
   "outputs": [
    {
     "data": {
      "text/html": [
       "<div>\n",
       "<style scoped>\n",
       "    .dataframe tbody tr th:only-of-type {\n",
       "        vertical-align: middle;\n",
       "    }\n",
       "\n",
       "    .dataframe tbody tr th {\n",
       "        vertical-align: top;\n",
       "    }\n",
       "\n",
       "    .dataframe thead th {\n",
       "        text-align: right;\n",
       "    }\n",
       "</style>\n",
       "<table border=\"1\" class=\"dataframe\">\n",
       "  <thead>\n",
       "    <tr style=\"text-align: right;\">\n",
       "      <th></th>\n",
       "      <th>customer_id</th>\n",
       "      <th>first_name</th>\n",
       "      <th>last_name</th>\n",
       "      <th>gender</th>\n",
       "      <th>past_3_years_bike_related_purchases</th>\n",
       "      <th>DOB</th>\n",
       "      <th>job_title</th>\n",
       "      <th>job_industry_category</th>\n",
       "      <th>wealth_segment</th>\n",
       "      <th>deceased_indicator</th>\n",
       "      <th>...</th>\n",
       "      <th>postcode</th>\n",
       "      <th>state</th>\n",
       "      <th>country</th>\n",
       "      <th>property_valuation</th>\n",
       "      <th>Unnamed: 17</th>\n",
       "      <th>Unnamed: 18</th>\n",
       "      <th>Unnamed: 19</th>\n",
       "      <th>Unnamed: 20</th>\n",
       "      <th>Rank</th>\n",
       "      <th>Value</th>\n",
       "    </tr>\n",
       "  </thead>\n",
       "  <tbody>\n",
       "    <tr>\n",
       "      <th>0</th>\n",
       "      <td>1</td>\n",
       "      <td>Chickie</td>\n",
       "      <td>Brister</td>\n",
       "      <td>Male</td>\n",
       "      <td>86</td>\n",
       "      <td>1957-07-12</td>\n",
       "      <td>General Manager</td>\n",
       "      <td>Manufacturing</td>\n",
       "      <td>Mass Customer</td>\n",
       "      <td>N</td>\n",
       "      <td>...</td>\n",
       "      <td>4500</td>\n",
       "      <td>QLD</td>\n",
       "      <td>Australia</td>\n",
       "      <td>6</td>\n",
       "      <td>0.93</td>\n",
       "      <td>1.1625</td>\n",
       "      <td>1.453125</td>\n",
       "      <td>1.235156</td>\n",
       "      <td>1</td>\n",
       "      <td>1.718750</td>\n",
       "    </tr>\n",
       "    <tr>\n",
       "      <th>1</th>\n",
       "      <td>2</td>\n",
       "      <td>Morly</td>\n",
       "      <td>Genery</td>\n",
       "      <td>Male</td>\n",
       "      <td>69</td>\n",
       "      <td>1970-03-22</td>\n",
       "      <td>Structural Engineer</td>\n",
       "      <td>Property</td>\n",
       "      <td>Mass Customer</td>\n",
       "      <td>N</td>\n",
       "      <td>...</td>\n",
       "      <td>2113</td>\n",
       "      <td>NSW</td>\n",
       "      <td>Australia</td>\n",
       "      <td>11</td>\n",
       "      <td>1.05</td>\n",
       "      <td>1.0500</td>\n",
       "      <td>1.312500</td>\n",
       "      <td>1.115625</td>\n",
       "      <td>1</td>\n",
       "      <td>1.718750</td>\n",
       "    </tr>\n",
       "    <tr>\n",
       "      <th>2</th>\n",
       "      <td>3</td>\n",
       "      <td>Ardelis</td>\n",
       "      <td>Forrester</td>\n",
       "      <td>Female</td>\n",
       "      <td>10</td>\n",
       "      <td>1974-08-28</td>\n",
       "      <td>Senior Cost Accountant</td>\n",
       "      <td>Financial Services</td>\n",
       "      <td>Affluent Customer</td>\n",
       "      <td>N</td>\n",
       "      <td>...</td>\n",
       "      <td>3505</td>\n",
       "      <td>VIC</td>\n",
       "      <td>Australia</td>\n",
       "      <td>5</td>\n",
       "      <td>1.08</td>\n",
       "      <td>1.0800</td>\n",
       "      <td>1.080000</td>\n",
       "      <td>1.080000</td>\n",
       "      <td>1</td>\n",
       "      <td>1.718750</td>\n",
       "    </tr>\n",
       "    <tr>\n",
       "      <th>3</th>\n",
       "      <td>4</td>\n",
       "      <td>Lucine</td>\n",
       "      <td>Stutt</td>\n",
       "      <td>Female</td>\n",
       "      <td>64</td>\n",
       "      <td>1979-01-28</td>\n",
       "      <td>Account Representative III</td>\n",
       "      <td>Manufacturing</td>\n",
       "      <td>Affluent Customer</td>\n",
       "      <td>N</td>\n",
       "      <td>...</td>\n",
       "      <td>4814</td>\n",
       "      <td>QLD</td>\n",
       "      <td>Australia</td>\n",
       "      <td>1</td>\n",
       "      <td>0.79</td>\n",
       "      <td>0.9875</td>\n",
       "      <td>0.987500</td>\n",
       "      <td>0.987500</td>\n",
       "      <td>4</td>\n",
       "      <td>1.703125</td>\n",
       "    </tr>\n",
       "    <tr>\n",
       "      <th>4</th>\n",
       "      <td>5</td>\n",
       "      <td>Melinda</td>\n",
       "      <td>Hadlee</td>\n",
       "      <td>Female</td>\n",
       "      <td>34</td>\n",
       "      <td>1965-09-21</td>\n",
       "      <td>Financial Analyst</td>\n",
       "      <td>Financial Services</td>\n",
       "      <td>Affluent Customer</td>\n",
       "      <td>N</td>\n",
       "      <td>...</td>\n",
       "      <td>2093</td>\n",
       "      <td>NSW</td>\n",
       "      <td>Australia</td>\n",
       "      <td>9</td>\n",
       "      <td>0.41</td>\n",
       "      <td>0.4100</td>\n",
       "      <td>0.512500</td>\n",
       "      <td>0.512500</td>\n",
       "      <td>4</td>\n",
       "      <td>1.703125</td>\n",
       "    </tr>\n",
       "  </tbody>\n",
       "</table>\n",
       "<p>5 rows × 23 columns</p>\n",
       "</div>"
      ],
      "text/plain": [
       "   customer_id first_name  last_name  gender  \\\n",
       "0            1    Chickie    Brister    Male   \n",
       "1            2      Morly     Genery    Male   \n",
       "2            3    Ardelis  Forrester  Female   \n",
       "3            4     Lucine      Stutt  Female   \n",
       "4            5    Melinda     Hadlee  Female   \n",
       "\n",
       "   past_3_years_bike_related_purchases        DOB                   job_title  \\\n",
       "0                                   86 1957-07-12             General Manager   \n",
       "1                                   69 1970-03-22         Structural Engineer   \n",
       "2                                   10 1974-08-28      Senior Cost Accountant   \n",
       "3                                   64 1979-01-28  Account Representative III   \n",
       "4                                   34 1965-09-21           Financial Analyst   \n",
       "\n",
       "  job_industry_category     wealth_segment deceased_indicator  ... postcode  \\\n",
       "0         Manufacturing      Mass Customer                  N  ...     4500   \n",
       "1              Property      Mass Customer                  N  ...     2113   \n",
       "2    Financial Services  Affluent Customer                  N  ...     3505   \n",
       "3         Manufacturing  Affluent Customer                  N  ...     4814   \n",
       "4    Financial Services  Affluent Customer                  N  ...     2093   \n",
       "\n",
       "   state    country  property_valuation Unnamed: 17 Unnamed: 18  Unnamed: 19  \\\n",
       "0    QLD  Australia                   6        0.93      1.1625     1.453125   \n",
       "1    NSW  Australia                  11        1.05      1.0500     1.312500   \n",
       "2    VIC  Australia                   5        1.08      1.0800     1.080000   \n",
       "3    QLD  Australia                   1        0.79      0.9875     0.987500   \n",
       "4    NSW  Australia                   9        0.41      0.4100     0.512500   \n",
       "\n",
       "   Unnamed: 20  Rank     Value  \n",
       "0     1.235156     1  1.718750  \n",
       "1     1.115625     1  1.718750  \n",
       "2     1.080000     1  1.718750  \n",
       "3     0.987500     4  1.703125  \n",
       "4     0.512500     4  1.703125  \n",
       "\n",
       "[5 rows x 23 columns]"
      ]
     },
     "execution_count": 3,
     "metadata": {},
     "output_type": "execute_result"
    }
   ],
   "source": [
    "cust_list.head()"
   ]
  },
  {
   "cell_type": "markdown",
   "id": "02bbf9b0",
   "metadata": {},
   "source": [
    "### Explore the Data"
   ]
  },
  {
   "cell_type": "code",
   "execution_count": 4,
   "id": "a02b3092",
   "metadata": {},
   "outputs": [
    {
     "data": {
      "text/plain": [
       "Index(['customer_id', 'first_name', 'last_name', 'gender',\n",
       "       'past_3_years_bike_related_purchases', 'DOB', 'job_title',\n",
       "       'job_industry_category', 'wealth_segment', 'deceased_indicator',\n",
       "       'owns_car', 'tenure', 'address', 'postcode', 'state', 'country',\n",
       "       'property_valuation', 'Unnamed: 17', 'Unnamed: 18', 'Unnamed: 19',\n",
       "       'Unnamed: 20', 'Rank', 'Value'],\n",
       "      dtype='object')"
      ]
     },
     "execution_count": 4,
     "metadata": {},
     "output_type": "execute_result"
    }
   ],
   "source": [
    "cust_list.columns"
   ]
  },
  {
   "cell_type": "code",
   "execution_count": 5,
   "id": "69ff653f",
   "metadata": {},
   "outputs": [],
   "source": [
    "cust_list = cust_list.drop(columns = ['Unnamed: 17', 'Unnamed: 18', 'Unnamed: 19', 'Unnamed: 20'])"
   ]
  },
  {
   "cell_type": "code",
   "execution_count": 6,
   "id": "0eafe2a0",
   "metadata": {},
   "outputs": [
    {
     "data": {
      "text/plain": [
       "customer_id                              0\n",
       "first_name                               0\n",
       "last_name                               29\n",
       "gender                                   0\n",
       "past_3_years_bike_related_purchases      0\n",
       "DOB                                     17\n",
       "job_title                              106\n",
       "job_industry_category                  165\n",
       "wealth_segment                           0\n",
       "deceased_indicator                       0\n",
       "owns_car                                 0\n",
       "tenure                                   0\n",
       "address                                  0\n",
       "postcode                                 0\n",
       "state                                    0\n",
       "country                                  0\n",
       "property_valuation                       0\n",
       "Rank                                     0\n",
       "Value                                    0\n",
       "dtype: int64"
      ]
     },
     "execution_count": 6,
     "metadata": {},
     "output_type": "execute_result"
    }
   ],
   "source": [
    "cust_list.isna().sum()"
   ]
  },
  {
   "cell_type": "markdown",
   "id": "6a9e49c5",
   "metadata": {},
   "source": [
    "#### Deal with missing values"
   ]
  },
  {
   "cell_type": "code",
   "execution_count": 7,
   "id": "eb621096",
   "metadata": {},
   "outputs": [],
   "source": [
    "# Fill the last name's missing with the first name in order to avoid having NAN values"
   ]
  },
  {
   "cell_type": "code",
   "execution_count": 8,
   "id": "aaf2a2a5",
   "metadata": {},
   "outputs": [],
   "source": [
    "cust_list['last_name'] = cust_list.last_name.combine_first(cust_list.first_name)"
   ]
  },
  {
   "cell_type": "code",
   "execution_count": 9,
   "id": "e097a968",
   "metadata": {},
   "outputs": [
    {
     "data": {
      "text/plain": [
       "0"
      ]
     },
     "execution_count": 9,
     "metadata": {},
     "output_type": "execute_result"
    }
   ],
   "source": [
    "cust_list['last_name'].isna().sum()"
   ]
  },
  {
   "cell_type": "code",
   "execution_count": 10,
   "id": "bbfe100b",
   "metadata": {},
   "outputs": [],
   "source": [
    "# Fill categorical columns with the mode"
   ]
  },
  {
   "cell_type": "code",
   "execution_count": 11,
   "id": "a0e52f04",
   "metadata": {},
   "outputs": [
    {
     "data": {
      "text/plain": [
       "0    Associate Professor\n",
       "dtype: object"
      ]
     },
     "execution_count": 11,
     "metadata": {},
     "output_type": "execute_result"
    }
   ],
   "source": [
    "cust_list['job_title'].mode()"
   ]
  },
  {
   "cell_type": "code",
   "execution_count": 12,
   "id": "29999249",
   "metadata": {},
   "outputs": [],
   "source": [
    "cust_list['job_title'].fillna('Associate Professor', inplace = True)"
   ]
  },
  {
   "cell_type": "code",
   "execution_count": 13,
   "id": "591e5baf",
   "metadata": {},
   "outputs": [
    {
     "data": {
      "text/plain": [
       "0    Financial Services\n",
       "dtype: object"
      ]
     },
     "execution_count": 13,
     "metadata": {},
     "output_type": "execute_result"
    }
   ],
   "source": [
    "cust_list['job_industry_category'].mode()"
   ]
  },
  {
   "cell_type": "code",
   "execution_count": 14,
   "id": "04972604",
   "metadata": {},
   "outputs": [],
   "source": [
    "cust_list['job_industry_category'].fillna('Financial Services', inplace = True)"
   ]
  },
  {
   "cell_type": "code",
   "execution_count": 15,
   "id": "8f49fd4f",
   "metadata": {},
   "outputs": [],
   "source": [
    "# Add Age column"
   ]
  },
  {
   "cell_type": "code",
   "execution_count": 16,
   "id": "e6d4dbbe",
   "metadata": {},
   "outputs": [
    {
     "data": {
      "text/plain": [
       "Timestamp('2022-02-05 13:48:28.657851')"
      ]
     },
     "execution_count": 16,
     "metadata": {},
     "output_type": "execute_result"
    }
   ],
   "source": [
    "now = pd.to_datetime('now')\n",
    "now"
   ]
  },
  {
   "cell_type": "code",
   "execution_count": 17,
   "id": "8ac9ffac",
   "metadata": {},
   "outputs": [
    {
     "data": {
      "text/html": [
       "<div>\n",
       "<style scoped>\n",
       "    .dataframe tbody tr th:only-of-type {\n",
       "        vertical-align: middle;\n",
       "    }\n",
       "\n",
       "    .dataframe tbody tr th {\n",
       "        vertical-align: top;\n",
       "    }\n",
       "\n",
       "    .dataframe thead th {\n",
       "        text-align: right;\n",
       "    }\n",
       "</style>\n",
       "<table border=\"1\" class=\"dataframe\">\n",
       "  <thead>\n",
       "    <tr style=\"text-align: right;\">\n",
       "      <th></th>\n",
       "      <th>customer_id</th>\n",
       "      <th>first_name</th>\n",
       "      <th>last_name</th>\n",
       "      <th>gender</th>\n",
       "      <th>past_3_years_bike_related_purchases</th>\n",
       "      <th>DOB</th>\n",
       "      <th>job_title</th>\n",
       "      <th>job_industry_category</th>\n",
       "      <th>wealth_segment</th>\n",
       "      <th>deceased_indicator</th>\n",
       "      <th>owns_car</th>\n",
       "      <th>tenure</th>\n",
       "      <th>address</th>\n",
       "      <th>postcode</th>\n",
       "      <th>state</th>\n",
       "      <th>country</th>\n",
       "      <th>property_valuation</th>\n",
       "      <th>Rank</th>\n",
       "      <th>Value</th>\n",
       "      <th>Age</th>\n",
       "    </tr>\n",
       "  </thead>\n",
       "  <tbody>\n",
       "    <tr>\n",
       "      <th>0</th>\n",
       "      <td>1</td>\n",
       "      <td>Chickie</td>\n",
       "      <td>Brister</td>\n",
       "      <td>Male</td>\n",
       "      <td>86</td>\n",
       "      <td>1957-07-12</td>\n",
       "      <td>General Manager</td>\n",
       "      <td>Manufacturing</td>\n",
       "      <td>Mass Customer</td>\n",
       "      <td>N</td>\n",
       "      <td>Yes</td>\n",
       "      <td>14</td>\n",
       "      <td>45 Shopko Center</td>\n",
       "      <td>4500</td>\n",
       "      <td>QLD</td>\n",
       "      <td>Australia</td>\n",
       "      <td>6</td>\n",
       "      <td>1</td>\n",
       "      <td>1.71875</td>\n",
       "      <td>64.0</td>\n",
       "    </tr>\n",
       "    <tr>\n",
       "      <th>1</th>\n",
       "      <td>2</td>\n",
       "      <td>Morly</td>\n",
       "      <td>Genery</td>\n",
       "      <td>Male</td>\n",
       "      <td>69</td>\n",
       "      <td>1970-03-22</td>\n",
       "      <td>Structural Engineer</td>\n",
       "      <td>Property</td>\n",
       "      <td>Mass Customer</td>\n",
       "      <td>N</td>\n",
       "      <td>No</td>\n",
       "      <td>16</td>\n",
       "      <td>14 Mccormick Park</td>\n",
       "      <td>2113</td>\n",
       "      <td>NSW</td>\n",
       "      <td>Australia</td>\n",
       "      <td>11</td>\n",
       "      <td>1</td>\n",
       "      <td>1.71875</td>\n",
       "      <td>51.0</td>\n",
       "    </tr>\n",
       "  </tbody>\n",
       "</table>\n",
       "</div>"
      ],
      "text/plain": [
       "   customer_id first_name last_name gender  \\\n",
       "0            1    Chickie   Brister   Male   \n",
       "1            2      Morly    Genery   Male   \n",
       "\n",
       "   past_3_years_bike_related_purchases        DOB            job_title  \\\n",
       "0                                   86 1957-07-12      General Manager   \n",
       "1                                   69 1970-03-22  Structural Engineer   \n",
       "\n",
       "  job_industry_category wealth_segment deceased_indicator owns_car  tenure  \\\n",
       "0         Manufacturing  Mass Customer                  N      Yes      14   \n",
       "1              Property  Mass Customer                  N       No      16   \n",
       "\n",
       "             address  postcode state    country  property_valuation  Rank  \\\n",
       "0   45 Shopko Center      4500   QLD  Australia                   6     1   \n",
       "1  14 Mccormick Park      2113   NSW  Australia                  11     1   \n",
       "\n",
       "     Value   Age  \n",
       "0  1.71875  64.0  \n",
       "1  1.71875  51.0  "
      ]
     },
     "execution_count": 17,
     "metadata": {},
     "output_type": "execute_result"
    }
   ],
   "source": [
    "cust_list['Age'] = (now.year - cust_list['DOB'].dt.year) - ((now.month - cust_list['DOB'].dt.month) < 0)\n",
    "cust_list.head(2)"
   ]
  },
  {
   "cell_type": "code",
   "execution_count": 18,
   "id": "089863c5",
   "metadata": {},
   "outputs": [],
   "source": [
    "# The remained NAN values are very few (17) so we can just drop them"
   ]
  },
  {
   "cell_type": "code",
   "execution_count": 19,
   "id": "95762e55",
   "metadata": {},
   "outputs": [],
   "source": [
    "cust_list = cust_list.dropna()"
   ]
  },
  {
   "cell_type": "code",
   "execution_count": 20,
   "id": "56ad2491",
   "metadata": {},
   "outputs": [
    {
     "data": {
      "text/plain": [
       "customer_id                            0\n",
       "first_name                             0\n",
       "last_name                              0\n",
       "gender                                 0\n",
       "past_3_years_bike_related_purchases    0\n",
       "DOB                                    0\n",
       "job_title                              0\n",
       "job_industry_category                  0\n",
       "wealth_segment                         0\n",
       "deceased_indicator                     0\n",
       "owns_car                               0\n",
       "tenure                                 0\n",
       "address                                0\n",
       "postcode                               0\n",
       "state                                  0\n",
       "country                                0\n",
       "property_valuation                     0\n",
       "Rank                                   0\n",
       "Value                                  0\n",
       "Age                                    0\n",
       "dtype: int64"
      ]
     },
     "execution_count": 20,
     "metadata": {},
     "output_type": "execute_result"
    }
   ],
   "source": [
    "cust_list.isna().sum()"
   ]
  },
  {
   "cell_type": "code",
   "execution_count": 21,
   "id": "04af4cf1",
   "metadata": {
    "scrolled": true
   },
   "outputs": [
    {
     "data": {
      "text/plain": [
       "<AxesSubplot:>"
      ]
     },
     "execution_count": 21,
     "metadata": {},
     "output_type": "execute_result"
    },
    {
     "data": {
      "image/png": "[encoded data removed]",
      "text/plain": [
       "<Figure size 1800x720 with 3 Axes>"
      ]
     },
     "metadata": {
      "needs_background": "light"
     },
     "output_type": "display_data"
    }
   ],
   "source": [
    "msno.bar(cust_list)"
   ]
  },
  {
   "cell_type": "markdown",
   "id": "7ebaf366",
   "metadata": {},
   "source": [
    "#### Check for duplicates"
   ]
  },
  {
   "cell_type": "code",
   "execution_count": 22,
   "id": "650465d5",
   "metadata": {
    "scrolled": true
   },
   "outputs": [
    {
     "data": {
      "text/plain": [
       "0"
      ]
     },
     "execution_count": 22,
     "metadata": {},
     "output_type": "execute_result"
    }
   ],
   "source": [
    "cust_list.duplicated().sum()"
   ]
  },
  {
   "cell_type": "markdown",
   "id": "06edf8ca",
   "metadata": {},
   "source": [
    "#### Categorical Columns"
   ]
  },
  {
   "cell_type": "code",
   "execution_count": 23,
   "id": "724206a8",
   "metadata": {},
   "outputs": [
    {
     "data": {
      "text/plain": [
       "['first_name',\n",
       " 'last_name',\n",
       " 'gender',\n",
       " 'job_title',\n",
       " 'job_industry_category',\n",
       " 'wealth_segment',\n",
       " 'deceased_indicator',\n",
       " 'owns_car',\n",
       " 'address',\n",
       " 'state',\n",
       " 'country']"
      ]
     },
     "execution_count": 23,
     "metadata": {},
     "output_type": "execute_result"
    }
   ],
   "source": [
    "cat_col = []\n",
    "for x in cust_list.dtypes.index:\n",
    "    if cust_list.dtypes[x] == 'object':\n",
    "        cat_col.append(x)\n",
    "cat_col"
   ]
  },
  {
   "cell_type": "code",
   "execution_count": 24,
   "id": "ab74727d",
   "metadata": {},
   "outputs": [],
   "source": [
    "def categ(column):\n",
    "    s = column.value_counts()\n",
    "    return s"
   ]
  },
  {
   "cell_type": "code",
   "execution_count": 25,
   "id": "b2b05111",
   "metadata": {},
   "outputs": [
    {
     "data": {
      "text/plain": [
       "Female    513\n",
       "Male      470\n",
       "Name: gender, dtype: int64"
      ]
     },
     "execution_count": 25,
     "metadata": {},
     "output_type": "execute_result"
    }
   ],
   "source": [
    "categ(cust_list.gender)"
   ]
  },
  {
   "cell_type": "code",
   "execution_count": 26,
   "id": "10d846cd",
   "metadata": {},
   "outputs": [
    {
     "data": {
      "image/png": "[encoded data removed]",
      "text/plain": [
       "<Figure size 432x288 with 1 Axes>"
      ]
     },
     "metadata": {},
     "output_type": "display_data"
    }
   ],
   "source": [
    "cust_list['gender'].value_counts().plot(kind=\"pie\", autopct=\"%.2f\")\n",
    "plt.show()"
   ]
  },
  {
   "cell_type": "code",
   "execution_count": 27,
   "id": "912841cd",
   "metadata": {
    "scrolled": true
   },
   "outputs": [
    {
     "data": {
      "text/plain": [
       "Financial Services    367\n",
       "Manufacturing         199\n",
       "Health                152\n",
       "Retail                 78\n",
       "Property               64\n",
       "Entertainment          36\n",
       "IT                     36\n",
       "Argiculture            26\n",
       "Telecommunications     25\n",
       "Name: job_industry_category, dtype: int64"
      ]
     },
     "execution_count": 27,
     "metadata": {},
     "output_type": "execute_result"
    }
   ],
   "source": [
    "categ(cust_list.job_industry_category)"
   ]
  },
  {
   "cell_type": "code",
   "execution_count": 28,
   "id": "3cdab6ce",
   "metadata": {},
   "outputs": [
    {
     "data": {
      "image/png": "[encoded data removed]",
      "text/plain": [
       "<Figure size 432x288 with 1 Axes>"
      ]
     },
     "metadata": {
      "needs_background": "light"
     },
     "output_type": "display_data"
    }
   ],
   "source": [
    "sns.countplot(cust_list['job_industry_category'])\n",
    "plt.xticks(rotation=45)\n",
    "plt.show()"
   ]
  },
  {
   "cell_type": "code",
   "execution_count": 29,
   "id": "8b587e18",
   "metadata": {},
   "outputs": [
    {
     "data": {
      "text/plain": [
       "Mass Customer        499\n",
       "High Net Worth       249\n",
       "Affluent Customer    235\n",
       "Name: wealth_segment, dtype: int64"
      ]
     },
     "execution_count": 29,
     "metadata": {},
     "output_type": "execute_result"
    }
   ],
   "source": [
    "categ(cust_list.wealth_segment)"
   ]
  },
  {
   "cell_type": "code",
   "execution_count": 30,
   "id": "dd50e239",
   "metadata": {},
   "outputs": [
    {
     "data": {
      "image/png": "[encoded data removed]",
      "text/plain": [
       "<Figure size 432x288 with 1 Axes>"
      ]
     },
     "metadata": {
      "needs_background": "light"
     },
     "output_type": "display_data"
    }
   ],
   "source": [
    "sns.countplot(cust_list['wealth_segment'])\n",
    "plt.xticks(rotation=45)\n",
    "plt.show()"
   ]
  },
  {
   "cell_type": "code",
   "execution_count": 31,
   "id": "3750b990",
   "metadata": {},
   "outputs": [
    {
     "data": {
      "text/plain": [
       "N    983\n",
       "Name: deceased_indicator, dtype: int64"
      ]
     },
     "execution_count": 31,
     "metadata": {},
     "output_type": "execute_result"
    }
   ],
   "source": [
    "categ(cust_list.deceased_indicator)"
   ]
  },
  {
   "cell_type": "code",
   "execution_count": 32,
   "id": "17f43d41",
   "metadata": {},
   "outputs": [
    {
     "data": {
      "text/plain": [
       "No     497\n",
       "Yes    486\n",
       "Name: owns_car, dtype: int64"
      ]
     },
     "execution_count": 32,
     "metadata": {},
     "output_type": "execute_result"
    }
   ],
   "source": [
    "categ(cust_list.owns_car)"
   ]
  },
  {
   "cell_type": "code",
   "execution_count": 33,
   "id": "124d93a3",
   "metadata": {},
   "outputs": [
    {
     "data": {
      "image/png": "[encoded data removed]",
      "text/plain": [
       "<Figure size 432x288 with 1 Axes>"
      ]
     },
     "metadata": {},
     "output_type": "display_data"
    }
   ],
   "source": [
    "cust_list['owns_car'].value_counts().plot(kind=\"pie\", autopct=\"%.2f\")\n",
    "plt.show()"
   ]
  },
  {
   "cell_type": "code",
   "execution_count": 34,
   "id": "4df4cf1a",
   "metadata": {},
   "outputs": [
    {
     "data": {
      "text/plain": [
       "NSW    499\n",
       "VIC    258\n",
       "QLD    226\n",
       "Name: state, dtype: int64"
      ]
     },
     "execution_count": 34,
     "metadata": {},
     "output_type": "execute_result"
    }
   ],
   "source": [
    "categ(cust_list.state)"
   ]
  },
  {
   "cell_type": "code",
   "execution_count": 35,
   "id": "8ccddf54",
   "metadata": {},
   "outputs": [
    {
     "data": {
      "image/png": "[encoded data removed]",
      "text/plain": [
       "<Figure size 432x288 with 1 Axes>"
      ]
     },
     "metadata": {
      "needs_background": "light"
     },
     "output_type": "display_data"
    }
   ],
   "source": [
    "sns.countplot(cust_list['state'])\n",
    "plt.xticks(rotation=45)\n",
    "plt.show()"
   ]
  },
  {
   "cell_type": "code",
   "execution_count": 36,
   "id": "120a03c1",
   "metadata": {},
   "outputs": [
    {
     "data": {
      "text/plain": [
       "state  property_valuation\n",
       "NSW    9                     113\n",
       "       8                      88\n",
       "       10                     80\n",
       "       7                      53\n",
       "       11                     49\n",
       "       12                     36\n",
       "       6                      20\n",
       "       4                      16\n",
       "       3                      15\n",
       "       2                      13\n",
       "       5                       9\n",
       "       1                       7\n",
       "QLD    7                      38\n",
       "       5                      31\n",
       "       8                      26\n",
       "       9                      24\n",
       "       3                      23\n",
       "       6                      23\n",
       "       4                      22\n",
       "       2                      16\n",
       "       1                      13\n",
       "       10                      7\n",
       "       11                      3\n",
       "VIC    8                      47\n",
       "       7                      44\n",
       "       9                      35\n",
       "       10                     27\n",
       "       6                      24\n",
       "       5                      15\n",
       "       4                      14\n",
       "       2                      13\n",
       "       3                      12\n",
       "       12                     10\n",
       "       1                       9\n",
       "       11                      8\n",
       "Name: property_valuation, dtype: int64"
      ]
     },
     "execution_count": 36,
     "metadata": {},
     "output_type": "execute_result"
    }
   ],
   "source": [
    "cust_list.groupby(['state'])['property_valuation'].value_counts()"
   ]
  },
  {
   "cell_type": "code",
   "execution_count": 37,
   "id": "3896721e",
   "metadata": {},
   "outputs": [],
   "source": [
    "NSW = {'property_valuation': [1,2,3,4,5,6,7,8,9,10,11,12], 'NSW Property': [7,13,15,16,9,20,53,88,113,80,49,36]}\n",
    "nsw_prop= pd.DataFrame(NSW)\n",
    "\n",
    "QLD = {'property_valuation': [1,2,3,4,5,6,7,8,9,10,11], 'QLD Property': [13,16,23,22,31,23,38,26,24,7,3]}\n",
    "qld_prop= pd.DataFrame(QLD)\n",
    "\n",
    "VIC = {'property_valuation': [1,2,3,4,5,6,7,8,9,10,11,12], 'VIC Property': [9,13,12,14,15,24,44,47,35,27,8,10]}\n",
    "vic_prop= pd.DataFrame(VIC)"
   ]
  },
  {
   "cell_type": "code",
   "execution_count": 38,
   "id": "087a8407",
   "metadata": {},
   "outputs": [
    {
     "data": {
      "image/png": "[encoded data removed]",
      "text/plain": [
       "<Figure size 432x288 with 1 Axes>"
      ]
     },
     "metadata": {
      "needs_background": "light"
     },
     "output_type": "display_data"
    }
   ],
   "source": [
    "sns.barplot(x = 'property_valuation', y='NSW Property', data=nsw_prop, palette='magma')\n",
    "plt.xticks;"
   ]
  },
  {
   "cell_type": "code",
   "execution_count": 39,
   "id": "d7fbce2b",
   "metadata": {},
   "outputs": [
    {
     "data": {
      "image/png": "[encoded data removed]",
      "text/plain": [
       "<Figure size 432x288 with 1 Axes>"
      ]
     },
     "metadata": {
      "needs_background": "light"
     },
     "output_type": "display_data"
    }
   ],
   "source": [
    "sns.barplot(x = 'property_valuation', y='QLD Property', data=qld_prop, palette='magma')\n",
    "plt.xticks;"
   ]
  },
  {
   "cell_type": "code",
   "execution_count": 40,
   "id": "8d688c65",
   "metadata": {
    "scrolled": true
   },
   "outputs": [
    {
     "data": {
      "image/png": "[encoded data removed]",
      "text/plain": [
       "<Figure size 432x288 with 1 Axes>"
      ]
     },
     "metadata": {
      "needs_background": "light"
     },
     "output_type": "display_data"
    }
   ],
   "source": [
    "sns.barplot(x = 'property_valuation', y='VIC Property', data=vic_prop, palette='magma')\n",
    "plt.xticks;"
   ]
  },
  {
   "cell_type": "code",
   "execution_count": 41,
   "id": "ac026b8c",
   "metadata": {},
   "outputs": [],
   "source": [
    "# We can see that the state with the most valuable properties is the New South Wales\n",
    "# All three states have similar number of medium to high value properties\n",
    "# The state with the lowest value properties is Queensland"
   ]
  },
  {
   "cell_type": "code",
   "execution_count": 42,
   "id": "d927b640",
   "metadata": {},
   "outputs": [
    {
     "data": {
      "text/plain": [
       "Australia    983\n",
       "Name: country, dtype: int64"
      ]
     },
     "execution_count": 42,
     "metadata": {},
     "output_type": "execute_result"
    }
   ],
   "source": [
    "categ(cust_list.country)"
   ]
  },
  {
   "cell_type": "markdown",
   "id": "9d74e82a",
   "metadata": {},
   "source": [
    "#### Check the numerical columns"
   ]
  },
  {
   "cell_type": "code",
   "execution_count": 43,
   "id": "4b9bc330",
   "metadata": {},
   "outputs": [
    {
     "data": {
      "text/plain": [
       "['customer_id',\n",
       " 'past_3_years_bike_related_purchases',\n",
       " 'DOB',\n",
       " 'tenure',\n",
       " 'postcode',\n",
       " 'property_valuation',\n",
       " 'Rank',\n",
       " 'Value',\n",
       " 'Age']"
      ]
     },
     "execution_count": 43,
     "metadata": {},
     "output_type": "execute_result"
    }
   ],
   "source": [
    "num = []\n",
    "for x in cust_list.dtypes.index:\n",
    "    if cust_list.dtypes[x] != 'object':\n",
    "        num.append(x)\n",
    "num"
   ]
  },
  {
   "cell_type": "code",
   "execution_count": 44,
   "id": "1ab188d6",
   "metadata": {},
   "outputs": [
    {
     "data": {
      "text/html": [
       "<div>\n",
       "<style scoped>\n",
       "    .dataframe tbody tr th:only-of-type {\n",
       "        vertical-align: middle;\n",
       "    }\n",
       "\n",
       "    .dataframe tbody tr th {\n",
       "        vertical-align: top;\n",
       "    }\n",
       "\n",
       "    .dataframe thead th {\n",
       "        text-align: right;\n",
       "    }\n",
       "</style>\n",
       "<table border=\"1\" class=\"dataframe\">\n",
       "  <thead>\n",
       "    <tr style=\"text-align: right;\">\n",
       "      <th></th>\n",
       "      <th>customer_id</th>\n",
       "      <th>past_3_years_bike_related_purchases</th>\n",
       "      <th>tenure</th>\n",
       "      <th>postcode</th>\n",
       "      <th>property_valuation</th>\n",
       "      <th>Rank</th>\n",
       "      <th>Value</th>\n",
       "      <th>Age</th>\n",
       "    </tr>\n",
       "  </thead>\n",
       "  <tbody>\n",
       "    <tr>\n",
       "      <th>count</th>\n",
       "      <td>983.000000</td>\n",
       "      <td>983.000000</td>\n",
       "      <td>983.000000</td>\n",
       "      <td>983.00000</td>\n",
       "      <td>983.000000</td>\n",
       "      <td>983.000000</td>\n",
       "      <td>983.000000</td>\n",
       "      <td>983.000000</td>\n",
       "    </tr>\n",
       "    <tr>\n",
       "      <th>mean</th>\n",
       "      <td>499.431333</td>\n",
       "      <td>49.824008</td>\n",
       "      <td>11.459817</td>\n",
       "      <td>3017.74059</td>\n",
       "      <td>7.406918</td>\n",
       "      <td>497.745677</td>\n",
       "      <td>0.882926</td>\n",
       "      <td>50.368260</td>\n",
       "    </tr>\n",
       "    <tr>\n",
       "      <th>std</th>\n",
       "      <td>289.197645</td>\n",
       "      <td>27.786108</td>\n",
       "      <td>5.006123</td>\n",
       "      <td>849.38176</td>\n",
       "      <td>2.758293</td>\n",
       "      <td>289.186799</td>\n",
       "      <td>0.294166</td>\n",
       "      <td>17.061071</td>\n",
       "    </tr>\n",
       "    <tr>\n",
       "      <th>min</th>\n",
       "      <td>1.000000</td>\n",
       "      <td>0.000000</td>\n",
       "      <td>1.000000</td>\n",
       "      <td>2000.00000</td>\n",
       "      <td>1.000000</td>\n",
       "      <td>1.000000</td>\n",
       "      <td>0.340000</td>\n",
       "      <td>20.000000</td>\n",
       "    </tr>\n",
       "    <tr>\n",
       "      <th>25%</th>\n",
       "      <td>248.500000</td>\n",
       "      <td>27.000000</td>\n",
       "      <td>8.000000</td>\n",
       "      <td>2209.00000</td>\n",
       "      <td>6.000000</td>\n",
       "      <td>248.500000</td>\n",
       "      <td>0.650781</td>\n",
       "      <td>38.000000</td>\n",
       "    </tr>\n",
       "    <tr>\n",
       "      <th>50%</th>\n",
       "      <td>500.000000</td>\n",
       "      <td>51.000000</td>\n",
       "      <td>11.000000</td>\n",
       "      <td>2795.00000</td>\n",
       "      <td>8.000000</td>\n",
       "      <td>500.000000</td>\n",
       "      <td>0.860000</td>\n",
       "      <td>49.000000</td>\n",
       "    </tr>\n",
       "    <tr>\n",
       "      <th>75%</th>\n",
       "      <td>748.500000</td>\n",
       "      <td>72.000000</td>\n",
       "      <td>15.000000</td>\n",
       "      <td>3850.50000</td>\n",
       "      <td>9.000000</td>\n",
       "      <td>748.000000</td>\n",
       "      <td>1.076953</td>\n",
       "      <td>64.000000</td>\n",
       "    </tr>\n",
       "    <tr>\n",
       "      <th>max</th>\n",
       "      <td>1000.000000</td>\n",
       "      <td>99.000000</td>\n",
       "      <td>22.000000</td>\n",
       "      <td>4879.00000</td>\n",
       "      <td>12.000000</td>\n",
       "      <td>1000.000000</td>\n",
       "      <td>1.718750</td>\n",
       "      <td>83.000000</td>\n",
       "    </tr>\n",
       "  </tbody>\n",
       "</table>\n",
       "</div>"
      ],
      "text/plain": [
       "       customer_id  past_3_years_bike_related_purchases      tenure  \\\n",
       "count   983.000000                           983.000000  983.000000   \n",
       "mean    499.431333                            49.824008   11.459817   \n",
       "std     289.197645                            27.786108    5.006123   \n",
       "min       1.000000                             0.000000    1.000000   \n",
       "25%     248.500000                            27.000000    8.000000   \n",
       "50%     500.000000                            51.000000   11.000000   \n",
       "75%     748.500000                            72.000000   15.000000   \n",
       "max    1000.000000                            99.000000   22.000000   \n",
       "\n",
       "         postcode  property_valuation         Rank       Value         Age  \n",
       "count   983.00000          983.000000   983.000000  983.000000  983.000000  \n",
       "mean   3017.74059            7.406918   497.745677    0.882926   50.368260  \n",
       "std     849.38176            2.758293   289.186799    0.294166   17.061071  \n",
       "min    2000.00000            1.000000     1.000000    0.340000   20.000000  \n",
       "25%    2209.00000            6.000000   248.500000    0.650781   38.000000  \n",
       "50%    2795.00000            8.000000   500.000000    0.860000   49.000000  \n",
       "75%    3850.50000            9.000000   748.000000    1.076953   64.000000  \n",
       "max    4879.00000           12.000000  1000.000000    1.718750   83.000000  "
      ]
     },
     "execution_count": 44,
     "metadata": {},
     "output_type": "execute_result"
    }
   ],
   "source": [
    "cust_list.describe()"
   ]
  },
  {
   "cell_type": "code",
   "execution_count": 45,
   "id": "94ed5d08",
   "metadata": {},
   "outputs": [],
   "source": [
    "# check for outliers"
   ]
  },
  {
   "cell_type": "code",
   "execution_count": 46,
   "id": "a8bacf9f",
   "metadata": {},
   "outputs": [
    {
     "data": {
      "text/plain": [
       "<AxesSubplot:>"
      ]
     },
     "execution_count": 46,
     "metadata": {},
     "output_type": "execute_result"
    },
    {
     "data": {
      "image/png": "[encoded data removed]",
      "text/plain": [
       "<Figure size 432x288 with 1 Axes>"
      ]
     },
     "metadata": {
      "needs_background": "light"
     },
     "output_type": "display_data"
    }
   ],
   "source": [
    "cust_list.boxplot(column=['past_3_years_bike_related_purchases'])"
   ]
  },
  {
   "cell_type": "code",
   "execution_count": 47,
   "id": "b686e54e",
   "metadata": {},
   "outputs": [
    {
     "data": {
      "text/plain": [
       "<AxesSubplot:>"
      ]
     },
     "execution_count": 47,
     "metadata": {},
     "output_type": "execute_result"
    },
    {
     "data": {
      "image/png": "[encoded data removed]",
      "text/plain": [
       "<Figure size 432x288 with 1 Axes>"
      ]
     },
     "metadata": {
      "needs_background": "light"
     },
     "output_type": "display_data"
    }
   ],
   "source": [
    "cust_list.boxplot(column=['tenure'])"
   ]
  },
  {
   "cell_type": "code",
   "execution_count": 48,
   "id": "6b97afb4",
   "metadata": {},
   "outputs": [
    {
     "data": {
      "text/plain": [
       "<AxesSubplot:>"
      ]
     },
     "execution_count": 48,
     "metadata": {},
     "output_type": "execute_result"
    },
    {
     "data": {
      "image/png": "[encoded data removed]",
      "text/plain": [
       "<Figure size 432x288 with 1 Axes>"
      ]
     },
     "metadata": {
      "needs_background": "light"
     },
     "output_type": "display_data"
    }
   ],
   "source": [
    "cust_list.boxplot(column=['property_valuation'])"
   ]
  },
  {
   "cell_type": "code",
   "execution_count": 49,
   "id": "a2fe5792",
   "metadata": {},
   "outputs": [
    {
     "data": {
      "text/plain": [
       "<AxesSubplot:>"
      ]
     },
     "execution_count": 49,
     "metadata": {},
     "output_type": "execute_result"
    },
    {
     "data": {
      "image/png": "[encoded data removed]",
      "text/plain": [
       "<Figure size 432x288 with 1 Axes>"
      ]
     },
     "metadata": {
      "needs_background": "light"
     },
     "output_type": "display_data"
    }
   ],
   "source": [
    "cust_list.boxplot(column=['Rank'])"
   ]
  },
  {
   "cell_type": "code",
   "execution_count": 50,
   "id": "bab465d2",
   "metadata": {},
   "outputs": [
    {
     "data": {
      "text/plain": [
       "<AxesSubplot:>"
      ]
     },
     "execution_count": 50,
     "metadata": {},
     "output_type": "execute_result"
    },
    {
     "data": {
      "image/png": "[encoded data removed]",
      "text/plain": [
       "<Figure size 432x288 with 1 Axes>"
      ]
     },
     "metadata": {
      "needs_background": "light"
     },
     "output_type": "display_data"
    }
   ],
   "source": [
    "cust_list.boxplot(column=['Value'])"
   ]
  },
  {
   "cell_type": "code",
   "execution_count": 51,
   "id": "f53a5fc9",
   "metadata": {},
   "outputs": [
    {
     "data": {
      "text/plain": [
       "<AxesSubplot:>"
      ]
     },
     "execution_count": 51,
     "metadata": {},
     "output_type": "execute_result"
    },
    {
     "data": {
      "image/png": "[encoded data removed]",
      "text/plain": [
       "<Figure size 432x288 with 1 Axes>"
      ]
     },
     "metadata": {
      "needs_background": "light"
     },
     "output_type": "display_data"
    }
   ],
   "source": [
    "cust_list.boxplot(column=['Age'])"
   ]
  },
  {
   "cell_type": "code",
   "execution_count": 52,
   "id": "88c24016",
   "metadata": {},
   "outputs": [],
   "source": [
    "# There are no outliers in the numerical columns"
   ]
  },
  {
   "cell_type": "markdown",
   "id": "956e5d6a",
   "metadata": {},
   "source": [
    "#### Check for correlations"
   ]
  },
  {
   "cell_type": "code",
   "execution_count": 53,
   "id": "faef59cd",
   "metadata": {},
   "outputs": [
    {
     "data": {
      "image/png": "[encoded data removed]",
      "text/plain": [
       "<Figure size 432x288 with 2 Axes>"
      ]
     },
     "metadata": {
      "needs_background": "light"
     },
     "output_type": "display_data"
    }
   ],
   "source": [
    "correlation_matrix = cust_list.corr(method = 'pearson')\n",
    "\n",
    "sns.heatmap(correlation_matrix, annot = True)\n",
    "sns.set(rc = {'figure.figsize':(6,3)})\n",
    "\n",
    "plt.show()"
   ]
  },
  {
   "cell_type": "code",
   "execution_count": 54,
   "id": "91325bef",
   "metadata": {},
   "outputs": [],
   "source": [
    "# We can see that there aren't any remarkable correlations"
   ]
  },
  {
   "cell_type": "markdown",
   "id": "217cb1e4",
   "metadata": {},
   "source": [
    "### Customer Segmentation"
   ]
  },
  {
   "cell_type": "code",
   "execution_count": 55,
   "id": "4b69a879",
   "metadata": {},
   "outputs": [],
   "source": [
    "from sklearn.datasets import make_blobs\n",
    "from sklearn.cluster import KMeans\n",
    "from sklearn.metrics import silhouette_score\n",
    "from sklearn.preprocessing import StandardScaler\n",
    "from sklearn.decomposition import PCA\n",
    "from mpl_toolkits.mplot3d import Axes3D"
   ]
  },
  {
   "cell_type": "code",
   "execution_count": 56,
   "id": "a2127911",
   "metadata": {
    "scrolled": false
   },
   "outputs": [
    {
     "data": {
      "text/html": [
       "<div>\n",
       "<style scoped>\n",
       "    .dataframe tbody tr th:only-of-type {\n",
       "        vertical-align: middle;\n",
       "    }\n",
       "\n",
       "    .dataframe tbody tr th {\n",
       "        vertical-align: top;\n",
       "    }\n",
       "\n",
       "    .dataframe thead th {\n",
       "        text-align: right;\n",
       "    }\n",
       "</style>\n",
       "<table border=\"1\" class=\"dataframe\">\n",
       "  <thead>\n",
       "    <tr style=\"text-align: right;\">\n",
       "      <th></th>\n",
       "      <th>customer_id</th>\n",
       "      <th>first_name</th>\n",
       "      <th>last_name</th>\n",
       "      <th>gender</th>\n",
       "      <th>past_3_years_bike_related_purchases</th>\n",
       "      <th>DOB</th>\n",
       "      <th>job_title</th>\n",
       "      <th>job_industry_category</th>\n",
       "      <th>wealth_segment</th>\n",
       "      <th>deceased_indicator</th>\n",
       "      <th>owns_car</th>\n",
       "      <th>tenure</th>\n",
       "      <th>address</th>\n",
       "      <th>postcode</th>\n",
       "      <th>state</th>\n",
       "      <th>country</th>\n",
       "      <th>property_valuation</th>\n",
       "      <th>Rank</th>\n",
       "      <th>Value</th>\n",
       "      <th>Age</th>\n",
       "    </tr>\n",
       "  </thead>\n",
       "  <tbody>\n",
       "    <tr>\n",
       "      <th>0</th>\n",
       "      <td>1</td>\n",
       "      <td>Chickie</td>\n",
       "      <td>Brister</td>\n",
       "      <td>Male</td>\n",
       "      <td>86</td>\n",
       "      <td>1957-07-12</td>\n",
       "      <td>General Manager</td>\n",
       "      <td>Manufacturing</td>\n",
       "      <td>Mass Customer</td>\n",
       "      <td>N</td>\n",
       "      <td>Yes</td>\n",
       "      <td>14</td>\n",
       "      <td>45 Shopko Center</td>\n",
       "      <td>4500</td>\n",
       "      <td>QLD</td>\n",
       "      <td>Australia</td>\n",
       "      <td>6</td>\n",
       "      <td>1</td>\n",
       "      <td>1.71875</td>\n",
       "      <td>64.0</td>\n",
       "    </tr>\n",
       "    <tr>\n",
       "      <th>1</th>\n",
       "      <td>2</td>\n",
       "      <td>Morly</td>\n",
       "      <td>Genery</td>\n",
       "      <td>Male</td>\n",
       "      <td>69</td>\n",
       "      <td>1970-03-22</td>\n",
       "      <td>Structural Engineer</td>\n",
       "      <td>Property</td>\n",
       "      <td>Mass Customer</td>\n",
       "      <td>N</td>\n",
       "      <td>No</td>\n",
       "      <td>16</td>\n",
       "      <td>14 Mccormick Park</td>\n",
       "      <td>2113</td>\n",
       "      <td>NSW</td>\n",
       "      <td>Australia</td>\n",
       "      <td>11</td>\n",
       "      <td>1</td>\n",
       "      <td>1.71875</td>\n",
       "      <td>51.0</td>\n",
       "    </tr>\n",
       "  </tbody>\n",
       "</table>\n",
       "</div>"
      ],
      "text/plain": [
       "   customer_id first_name last_name gender  \\\n",
       "0            1    Chickie   Brister   Male   \n",
       "1            2      Morly    Genery   Male   \n",
       "\n",
       "   past_3_years_bike_related_purchases        DOB            job_title  \\\n",
       "0                                   86 1957-07-12      General Manager   \n",
       "1                                   69 1970-03-22  Structural Engineer   \n",
       "\n",
       "  job_industry_category wealth_segment deceased_indicator owns_car  tenure  \\\n",
       "0         Manufacturing  Mass Customer                  N      Yes      14   \n",
       "1              Property  Mass Customer                  N       No      16   \n",
       "\n",
       "             address  postcode state    country  property_valuation  Rank  \\\n",
       "0   45 Shopko Center      4500   QLD  Australia                   6     1   \n",
       "1  14 Mccormick Park      2113   NSW  Australia                  11     1   \n",
       "\n",
       "     Value   Age  \n",
       "0  1.71875  64.0  \n",
       "1  1.71875  51.0  "
      ]
     },
     "execution_count": 56,
     "metadata": {},
     "output_type": "execute_result"
    }
   ],
   "source": [
    "cust_list.head(2)"
   ]
  },
  {
   "cell_type": "markdown",
   "id": "9031cde2",
   "metadata": {},
   "source": [
    "### Explain the process"
   ]
  },
  {
   "cell_type": "code",
   "execution_count": 57,
   "id": "ce811b36",
   "metadata": {},
   "outputs": [],
   "source": [
    "# We are going to group our customers based on demographic, psychographic and behavioral characteristics\n",
    "# In order for this to happen we have to choose columns that correspond to those categories\n",
    "\n",
    "## Numerical\n",
    "# Age, tenure = demographic characteristics\n",
    "# past_3_years_bike_related_purchases: It has to do with transaction history - Behavioral data\n",
    "\n",
    "## Categorical\n",
    "# gender, state = demographic\n",
    "# owns_car = psychographic"
   ]
  },
  {
   "cell_type": "markdown",
   "id": "8f734fad",
   "metadata": {},
   "source": [
    "### Clustering using K-Means analysis"
   ]
  },
  {
   "cell_type": "code",
   "execution_count": 58,
   "id": "40b3f814",
   "metadata": {},
   "outputs": [
    {
     "data": {
      "image/png": "[encoded data removed]",
      "text/plain": [
       "<Figure size 864x432 with 1 Axes>"
      ]
     },
     "metadata": {},
     "output_type": "display_data"
    }
   ],
   "source": [
    "#Create a subset of the dataframe with only Age, past_3_years_bike_related_purchases and tenure\n",
    "X2 = cust_list[[\"Age\",\"tenure\",\"past_3_years_bike_related_purchases\"]]\n",
    "\n",
    "#Determine the variation in the data\n",
    "wcss=[]\n",
    "for i in range(1,11):\n",
    "    km=KMeans(n_clusters=i)\n",
    "    km.fit(X2)\n",
    "    wcss.append(km.inertia_)\n",
    "\n",
    "#Plot the elbow curve\n",
    "plt.figure(figsize=(12,6))\n",
    "plt.plot(range(1,11),wcss, linewidth=2, color=\"blue\", marker =\"8\")\n",
    "plt.xlabel(\"Number of Clusters (K)\")\n",
    "plt.xticks(np.arange(1,11,1))\n",
    "plt.title(\"The Elbow Method\")\n",
    "plt.ylabel(\"WCSS\")\n",
    "plt.show()"
   ]
  },
  {
   "cell_type": "code",
   "execution_count": 59,
   "id": "0b0cb0a1",
   "metadata": {},
   "outputs": [
    {
     "data": {
      "text/html": [
       "<div>\n",
       "<style scoped>\n",
       "    .dataframe tbody tr th:only-of-type {\n",
       "        vertical-align: middle;\n",
       "    }\n",
       "\n",
       "    .dataframe tbody tr th {\n",
       "        vertical-align: top;\n",
       "    }\n",
       "\n",
       "    .dataframe thead th {\n",
       "        text-align: right;\n",
       "    }\n",
       "</style>\n",
       "<table border=\"1\" class=\"dataframe\">\n",
       "  <thead>\n",
       "    <tr style=\"text-align: right;\">\n",
       "      <th></th>\n",
       "      <th>customer_id</th>\n",
       "      <th>first_name</th>\n",
       "      <th>last_name</th>\n",
       "      <th>gender</th>\n",
       "      <th>past_3_years_bike_related_purchases</th>\n",
       "      <th>DOB</th>\n",
       "      <th>job_title</th>\n",
       "      <th>job_industry_category</th>\n",
       "      <th>wealth_segment</th>\n",
       "      <th>deceased_indicator</th>\n",
       "      <th>...</th>\n",
       "      <th>tenure</th>\n",
       "      <th>address</th>\n",
       "      <th>postcode</th>\n",
       "      <th>state</th>\n",
       "      <th>country</th>\n",
       "      <th>property_valuation</th>\n",
       "      <th>Rank</th>\n",
       "      <th>Value</th>\n",
       "      <th>Age</th>\n",
       "      <th>label</th>\n",
       "    </tr>\n",
       "  </thead>\n",
       "  <tbody>\n",
       "    <tr>\n",
       "      <th>0</th>\n",
       "      <td>1</td>\n",
       "      <td>Chickie</td>\n",
       "      <td>Brister</td>\n",
       "      <td>Male</td>\n",
       "      <td>86</td>\n",
       "      <td>1957-07-12</td>\n",
       "      <td>General Manager</td>\n",
       "      <td>Manufacturing</td>\n",
       "      <td>Mass Customer</td>\n",
       "      <td>N</td>\n",
       "      <td>...</td>\n",
       "      <td>14</td>\n",
       "      <td>45 Shopko Center</td>\n",
       "      <td>4500</td>\n",
       "      <td>QLD</td>\n",
       "      <td>Australia</td>\n",
       "      <td>6</td>\n",
       "      <td>1</td>\n",
       "      <td>1.718750</td>\n",
       "      <td>64.0</td>\n",
       "      <td>2</td>\n",
       "    </tr>\n",
       "    <tr>\n",
       "      <th>1</th>\n",
       "      <td>2</td>\n",
       "      <td>Morly</td>\n",
       "      <td>Genery</td>\n",
       "      <td>Male</td>\n",
       "      <td>69</td>\n",
       "      <td>1970-03-22</td>\n",
       "      <td>Structural Engineer</td>\n",
       "      <td>Property</td>\n",
       "      <td>Mass Customer</td>\n",
       "      <td>N</td>\n",
       "      <td>...</td>\n",
       "      <td>16</td>\n",
       "      <td>14 Mccormick Park</td>\n",
       "      <td>2113</td>\n",
       "      <td>NSW</td>\n",
       "      <td>Australia</td>\n",
       "      <td>11</td>\n",
       "      <td>1</td>\n",
       "      <td>1.718750</td>\n",
       "      <td>51.0</td>\n",
       "      <td>2</td>\n",
       "    </tr>\n",
       "    <tr>\n",
       "      <th>2</th>\n",
       "      <td>3</td>\n",
       "      <td>Ardelis</td>\n",
       "      <td>Forrester</td>\n",
       "      <td>Female</td>\n",
       "      <td>10</td>\n",
       "      <td>1974-08-28</td>\n",
       "      <td>Senior Cost Accountant</td>\n",
       "      <td>Financial Services</td>\n",
       "      <td>Affluent Customer</td>\n",
       "      <td>N</td>\n",
       "      <td>...</td>\n",
       "      <td>10</td>\n",
       "      <td>5 Colorado Crossing</td>\n",
       "      <td>3505</td>\n",
       "      <td>VIC</td>\n",
       "      <td>Australia</td>\n",
       "      <td>5</td>\n",
       "      <td>1</td>\n",
       "      <td>1.718750</td>\n",
       "      <td>47.0</td>\n",
       "      <td>1</td>\n",
       "    </tr>\n",
       "    <tr>\n",
       "      <th>3</th>\n",
       "      <td>4</td>\n",
       "      <td>Lucine</td>\n",
       "      <td>Stutt</td>\n",
       "      <td>Female</td>\n",
       "      <td>64</td>\n",
       "      <td>1979-01-28</td>\n",
       "      <td>Account Representative III</td>\n",
       "      <td>Manufacturing</td>\n",
       "      <td>Affluent Customer</td>\n",
       "      <td>N</td>\n",
       "      <td>...</td>\n",
       "      <td>5</td>\n",
       "      <td>207 Annamark Plaza</td>\n",
       "      <td>4814</td>\n",
       "      <td>QLD</td>\n",
       "      <td>Australia</td>\n",
       "      <td>1</td>\n",
       "      <td>4</td>\n",
       "      <td>1.703125</td>\n",
       "      <td>43.0</td>\n",
       "      <td>0</td>\n",
       "    </tr>\n",
       "    <tr>\n",
       "      <th>4</th>\n",
       "      <td>5</td>\n",
       "      <td>Melinda</td>\n",
       "      <td>Hadlee</td>\n",
       "      <td>Female</td>\n",
       "      <td>34</td>\n",
       "      <td>1965-09-21</td>\n",
       "      <td>Financial Analyst</td>\n",
       "      <td>Financial Services</td>\n",
       "      <td>Affluent Customer</td>\n",
       "      <td>N</td>\n",
       "      <td>...</td>\n",
       "      <td>19</td>\n",
       "      <td>115 Montana Place</td>\n",
       "      <td>2093</td>\n",
       "      <td>NSW</td>\n",
       "      <td>Australia</td>\n",
       "      <td>9</td>\n",
       "      <td>4</td>\n",
       "      <td>1.703125</td>\n",
       "      <td>56.0</td>\n",
       "      <td>1</td>\n",
       "    </tr>\n",
       "  </tbody>\n",
       "</table>\n",
       "<p>5 rows × 21 columns</p>\n",
       "</div>"
      ],
      "text/plain": [
       "   customer_id first_name  last_name  gender  \\\n",
       "0            1    Chickie    Brister    Male   \n",
       "1            2      Morly     Genery    Male   \n",
       "2            3    Ardelis  Forrester  Female   \n",
       "3            4     Lucine      Stutt  Female   \n",
       "4            5    Melinda     Hadlee  Female   \n",
       "\n",
       "   past_3_years_bike_related_purchases        DOB                   job_title  \\\n",
       "0                                   86 1957-07-12             General Manager   \n",
       "1                                   69 1970-03-22         Structural Engineer   \n",
       "2                                   10 1974-08-28      Senior Cost Accountant   \n",
       "3                                   64 1979-01-28  Account Representative III   \n",
       "4                                   34 1965-09-21           Financial Analyst   \n",
       "\n",
       "  job_industry_category     wealth_segment deceased_indicator  ... tenure  \\\n",
       "0         Manufacturing      Mass Customer                  N  ...     14   \n",
       "1              Property      Mass Customer                  N  ...     16   \n",
       "2    Financial Services  Affluent Customer                  N  ...     10   \n",
       "3         Manufacturing  Affluent Customer                  N  ...      5   \n",
       "4    Financial Services  Affluent Customer                  N  ...     19   \n",
       "\n",
       "               address postcode  state    country property_valuation  Rank  \\\n",
       "0     45 Shopko Center     4500    QLD  Australia                  6     1   \n",
       "1    14 Mccormick Park     2113    NSW  Australia                 11     1   \n",
       "2  5 Colorado Crossing     3505    VIC  Australia                  5     1   \n",
       "3   207 Annamark Plaza     4814    QLD  Australia                  1     4   \n",
       "4    115 Montana Place     2093    NSW  Australia                  9     4   \n",
       "\n",
       "      Value   Age  label  \n",
       "0  1.718750  64.0      2  \n",
       "1  1.718750  51.0      2  \n",
       "2  1.718750  47.0      1  \n",
       "3  1.703125  43.0      0  \n",
       "4  1.703125  56.0      1  \n",
       "\n",
       "[5 rows x 21 columns]"
      ]
     },
     "execution_count": 59,
     "metadata": {},
     "output_type": "execute_result"
    }
   ],
   "source": [
    "#Build the model with 3 clusters specified\n",
    "kmeans_model3D = KMeans(n_clusters=3)\n",
    "\n",
    "#Fit the input data to the model\n",
    "kmeans_model3D.fit(X2)\n",
    "\n",
    "#Segement the input data by assigning labels\n",
    "y2 = kmeans_model3D.predict(X2)\n",
    "\n",
    "#Update the \"label\" column in the original dataset with the new values\n",
    "cust_list[\"label\"] = y2\n",
    "\n",
    "#The dataframe with clustering complete\n",
    "cust_list.head()"
   ]
  },
  {
   "cell_type": "code",
   "execution_count": 60,
   "id": "32af673b",
   "metadata": {},
   "outputs": [
    {
     "data": {
      "image/png": "[encoded data removed]",
      "text/plain": [
       "<Figure size 1440x720 with 1 Axes>"
      ]
     },
     "metadata": {},
     "output_type": "display_data"
    }
   ],
   "source": [
    "#Create a 3D scatter plot\n",
    "fig = plt.figure(figsize=(20,10))\n",
    "ax = fig.add_subplot(111, projection='3d')\n",
    "\n",
    "ax.scatter(cust_list[\"Age\"][cust_list[\"label\"] == 0], cust_list[\"past_3_years_bike_related_purchases\"][cust_list[\"label\"] == 0], cust_list[\"tenure\"][cust_list[\"label\"] == 0], c='blue', s=50)\n",
    "ax.scatter(cust_list[\"Age\"][cust_list[\"label\"] == 1], cust_list[\"past_3_years_bike_related_purchases\"][cust_list[\"label\"] == 1], cust_list[\"tenure\"][cust_list[\"label\"] == 1], c='orange', s=50)\n",
    "ax.scatter(cust_list[\"Age\"][cust_list[\"label\"] == 2], cust_list[\"past_3_years_bike_related_purchases\"][cust_list[\"label\"] == 2], cust_list[\"tenure\"][cust_list[\"label\"] == 2], c='green', s=50)\n",
    "\n",
    "\n",
    "ax.view_init(35, 185)\n",
    "\n",
    "plt.xlabel(\"Age\")\n",
    "plt.ylabel(\"past_3_years_bike_related_purchases\")\n",
    "ax.set_zlabel('tenure')\n",
    "plt.show()"
   ]
  },
  {
   "cell_type": "code",
   "execution_count": 61,
   "id": "b64a55b2",
   "metadata": {},
   "outputs": [
    {
     "data": {
      "text/html": [
       "<div>\n",
       "<style scoped>\n",
       "    .dataframe tbody tr th:only-of-type {\n",
       "        vertical-align: middle;\n",
       "    }\n",
       "\n",
       "    .dataframe tbody tr th {\n",
       "        vertical-align: top;\n",
       "    }\n",
       "\n",
       "    .dataframe thead th {\n",
       "        text-align: right;\n",
       "    }\n",
       "</style>\n",
       "<table border=\"1\" class=\"dataframe\">\n",
       "  <thead>\n",
       "    <tr style=\"text-align: right;\">\n",
       "      <th></th>\n",
       "      <th>Segment</th>\n",
       "      <th>No.of Clients</th>\n",
       "      <th>Age</th>\n",
       "      <th>past_3_years_bike_related_purchases</th>\n",
       "      <th>tenure</th>\n",
       "    </tr>\n",
       "  </thead>\n",
       "  <tbody>\n",
       "    <tr>\n",
       "      <th>0</th>\n",
       "      <td>0</td>\n",
       "      <td>273</td>\n",
       "      <td>34.0</td>\n",
       "      <td>64.0</td>\n",
       "      <td>10.0</td>\n",
       "    </tr>\n",
       "    <tr>\n",
       "      <th>1</th>\n",
       "      <td>1</td>\n",
       "      <td>422</td>\n",
       "      <td>53.0</td>\n",
       "      <td>23.0</td>\n",
       "      <td>12.0</td>\n",
       "    </tr>\n",
       "    <tr>\n",
       "      <th>2</th>\n",
       "      <td>2</td>\n",
       "      <td>288</td>\n",
       "      <td>62.0</td>\n",
       "      <td>76.0</td>\n",
       "      <td>12.0</td>\n",
       "    </tr>\n",
       "  </tbody>\n",
       "</table>\n",
       "</div>"
      ],
      "text/plain": [
       "   Segment  No.of Clients   Age  past_3_years_bike_related_purchases  tenure\n",
       "0        0            273  34.0                                 64.0    10.0\n",
       "1        1            422  53.0                                 23.0    12.0\n",
       "2        2            288  62.0                                 76.0    12.0"
      ]
     },
     "execution_count": 61,
     "metadata": {},
     "output_type": "execute_result"
    }
   ],
   "source": [
    "#Check the count and mean values of all three variables for the different segments\n",
    "round(cust_list.groupby(by=\"label\")\\\n",
    "        .agg({\"customer_id\":\"count\",\"Age\":\"mean\",\"past_3_years_bike_related_purchases\":\"mean\",\"tenure\":\"mean\"})\\\n",
    "        .reset_index()\\\n",
    "        .rename(columns={\"label\":\"Segment\",\"customer_id\":\"No.of Clients\"}))"
   ]
  },
  {
   "cell_type": "markdown",
   "id": "a6a0ca4c",
   "metadata": {},
   "source": [
    "### Visualizations"
   ]
  },
  {
   "cell_type": "code",
   "execution_count": 65,
   "id": "b3c090ba",
   "metadata": {},
   "outputs": [
    {
     "data": {
      "text/html": [
       "<div>\n",
       "<style scoped>\n",
       "    .dataframe tbody tr th:only-of-type {\n",
       "        vertical-align: middle;\n",
       "    }\n",
       "\n",
       "    .dataframe tbody tr th {\n",
       "        vertical-align: top;\n",
       "    }\n",
       "\n",
       "    .dataframe thead th {\n",
       "        text-align: right;\n",
       "    }\n",
       "</style>\n",
       "<table border=\"1\" class=\"dataframe\">\n",
       "  <thead>\n",
       "    <tr style=\"text-align: right;\">\n",
       "      <th></th>\n",
       "      <th>label</th>\n",
       "      <th>customer_id</th>\n",
       "      <th>past_3_years_bike_related_purchases</th>\n",
       "      <th>tenure</th>\n",
       "      <th>postcode</th>\n",
       "      <th>property_valuation</th>\n",
       "      <th>Rank</th>\n",
       "      <th>Value</th>\n",
       "      <th>Age</th>\n",
       "    </tr>\n",
       "  </thead>\n",
       "  <tbody>\n",
       "    <tr>\n",
       "      <th>0</th>\n",
       "      <td>0</td>\n",
       "      <td>480.897436</td>\n",
       "      <td>63.593407</td>\n",
       "      <td>9.864469</td>\n",
       "      <td>3004.937729</td>\n",
       "      <td>7.505495</td>\n",
       "      <td>479.223443</td>\n",
       "      <td>0.905533</td>\n",
       "      <td>34.201465</td>\n",
       "    </tr>\n",
       "    <tr>\n",
       "      <th>1</th>\n",
       "      <td>1</td>\n",
       "      <td>506.841232</td>\n",
       "      <td>22.912322</td>\n",
       "      <td>11.805687</td>\n",
       "      <td>3039.293839</td>\n",
       "      <td>7.398104</td>\n",
       "      <td>505.253555</td>\n",
       "      <td>0.874850</td>\n",
       "      <td>52.907583</td>\n",
       "    </tr>\n",
       "    <tr>\n",
       "      <th>2</th>\n",
       "      <td>2</td>\n",
       "      <td>506.142361</td>\n",
       "      <td>76.204861</td>\n",
       "      <td>12.465278</td>\n",
       "      <td>2998.295139</td>\n",
       "      <td>7.326389</td>\n",
       "      <td>504.302083</td>\n",
       "      <td>0.873331</td>\n",
       "      <td>61.972222</td>\n",
       "    </tr>\n",
       "  </tbody>\n",
       "</table>\n",
       "</div>"
      ],
      "text/plain": [
       "   label  customer_id  past_3_years_bike_related_purchases     tenure  \\\n",
       "0      0   480.897436                            63.593407   9.864469   \n",
       "1      1   506.841232                            22.912322  11.805687   \n",
       "2      2   506.142361                            76.204861  12.465278   \n",
       "\n",
       "      postcode  property_valuation        Rank     Value        Age  \n",
       "0  3004.937729            7.505495  479.223443  0.905533  34.201465  \n",
       "1  3039.293839            7.398104  505.253555  0.874850  52.907583  \n",
       "2  2998.295139            7.326389  504.302083  0.873331  61.972222  "
      ]
     },
     "execution_count": 65,
     "metadata": {},
     "output_type": "execute_result"
    }
   ],
   "source": [
    "avg_df = cust_list.groupby(['label'], as_index=False).mean()\n",
    "avg_df"
   ]
  },
  {
   "cell_type": "code",
   "execution_count": 66,
   "id": "cf7c486e",
   "metadata": {},
   "outputs": [
    {
     "data": {
      "text/plain": [
       "<AxesSubplot:xlabel='label', ylabel='Age'>"
      ]
     },
     "execution_count": 66,
     "metadata": {},
     "output_type": "execute_result"
    },
    {
     "data": {
      "image/png": "[encoded data removed]",
      "text/plain": [
       "<Figure size 432x216 with 1 Axes>"
      ]
     },
     "metadata": {},
     "output_type": "display_data"
    }
   ],
   "source": [
    "sns.barplot(x='label',y='Age',data=avg_df)"
   ]
  },
  {
   "cell_type": "code",
   "execution_count": 67,
   "id": "127cb8f4",
   "metadata": {},
   "outputs": [
    {
     "data": {
      "text/plain": [
       "<AxesSubplot:xlabel='label', ylabel='past_3_years_bike_related_purchases'>"
      ]
     },
     "execution_count": 67,
     "metadata": {},
     "output_type": "execute_result"
    },
    {
     "data": {
      "image/png": "[encoded data removed]",
      "text/plain": [
       "<Figure size 432x216 with 1 Axes>"
      ]
     },
     "metadata": {},
     "output_type": "display_data"
    }
   ],
   "source": [
    "sns.barplot(x='label',y='past_3_years_bike_related_purchases',data=avg_df)"
   ]
  },
  {
   "cell_type": "code",
   "execution_count": 68,
   "id": "bd1317f8",
   "metadata": {},
   "outputs": [
    {
     "data": {
      "text/plain": [
       "<AxesSubplot:xlabel='label', ylabel='tenure'>"
      ]
     },
     "execution_count": 68,
     "metadata": {},
     "output_type": "execute_result"
    },
    {
     "data": {
      "image/png": "[encoded data removed]",
      "text/plain": [
       "<Figure size 432x216 with 1 Axes>"
      ]
     },
     "metadata": {},
     "output_type": "display_data"
    }
   ],
   "source": [
    "sns.barplot(x='label',y='tenure',data=avg_df)"
   ]
  },
  {
   "cell_type": "code",
   "execution_count": 69,
   "id": "baacf5e2",
   "metadata": {},
   "outputs": [],
   "source": [
    "# gender breakdown"
   ]
  },
  {
   "cell_type": "code",
   "execution_count": 70,
   "id": "6ac5c5c1",
   "metadata": {},
   "outputs": [
    {
     "data": {
      "text/html": [
       "<div>\n",
       "<style scoped>\n",
       "    .dataframe tbody tr th:only-of-type {\n",
       "        vertical-align: middle;\n",
       "    }\n",
       "\n",
       "    .dataframe tbody tr th {\n",
       "        vertical-align: top;\n",
       "    }\n",
       "\n",
       "    .dataframe thead th {\n",
       "        text-align: right;\n",
       "    }\n",
       "</style>\n",
       "<table border=\"1\" class=\"dataframe\">\n",
       "  <thead>\n",
       "    <tr style=\"text-align: right;\">\n",
       "      <th></th>\n",
       "      <th></th>\n",
       "      <th>gender</th>\n",
       "    </tr>\n",
       "    <tr>\n",
       "      <th>label</th>\n",
       "      <th>gender</th>\n",
       "      <th></th>\n",
       "    </tr>\n",
       "  </thead>\n",
       "  <tbody>\n",
       "    <tr>\n",
       "      <th rowspan=\"2\" valign=\"top\">0</th>\n",
       "      <th>Female</th>\n",
       "      <td>131</td>\n",
       "    </tr>\n",
       "    <tr>\n",
       "      <th>Male</th>\n",
       "      <td>142</td>\n",
       "    </tr>\n",
       "    <tr>\n",
       "      <th rowspan=\"2\" valign=\"top\">1</th>\n",
       "      <th>Female</th>\n",
       "      <td>227</td>\n",
       "    </tr>\n",
       "    <tr>\n",
       "      <th>Male</th>\n",
       "      <td>195</td>\n",
       "    </tr>\n",
       "    <tr>\n",
       "      <th rowspan=\"2\" valign=\"top\">2</th>\n",
       "      <th>Female</th>\n",
       "      <td>155</td>\n",
       "    </tr>\n",
       "    <tr>\n",
       "      <th>Male</th>\n",
       "      <td>133</td>\n",
       "    </tr>\n",
       "  </tbody>\n",
       "</table>\n",
       "</div>"
      ],
      "text/plain": [
       "              gender\n",
       "label gender        \n",
       "0     Female     131\n",
       "      Male       142\n",
       "1     Female     227\n",
       "      Male       195\n",
       "2     Female     155\n",
       "      Male       133"
      ]
     },
     "execution_count": 70,
     "metadata": {},
     "output_type": "execute_result"
    }
   ],
   "source": [
    "df2 = pd.DataFrame(cust_list.groupby(['label','gender'])['gender'].count())\n",
    "df2"
   ]
  },
  {
   "cell_type": "code",
   "execution_count": 71,
   "id": "0847906d",
   "metadata": {},
   "outputs": [],
   "source": [
    "# How many customers own a car on each cluster"
   ]
  },
  {
   "cell_type": "code",
   "execution_count": 72,
   "id": "92a8bf87",
   "metadata": {},
   "outputs": [
    {
     "data": {
      "text/html": [
       "<div>\n",
       "<style scoped>\n",
       "    .dataframe tbody tr th:only-of-type {\n",
       "        vertical-align: middle;\n",
       "    }\n",
       "\n",
       "    .dataframe tbody tr th {\n",
       "        vertical-align: top;\n",
       "    }\n",
       "\n",
       "    .dataframe thead th {\n",
       "        text-align: right;\n",
       "    }\n",
       "</style>\n",
       "<table border=\"1\" class=\"dataframe\">\n",
       "  <thead>\n",
       "    <tr style=\"text-align: right;\">\n",
       "      <th></th>\n",
       "      <th></th>\n",
       "      <th>owns_car</th>\n",
       "    </tr>\n",
       "    <tr>\n",
       "      <th>label</th>\n",
       "      <th>owns_car</th>\n",
       "      <th></th>\n",
       "    </tr>\n",
       "  </thead>\n",
       "  <tbody>\n",
       "    <tr>\n",
       "      <th rowspan=\"2\" valign=\"top\">0</th>\n",
       "      <th>No</th>\n",
       "      <td>142</td>\n",
       "    </tr>\n",
       "    <tr>\n",
       "      <th>Yes</th>\n",
       "      <td>131</td>\n",
       "    </tr>\n",
       "    <tr>\n",
       "      <th rowspan=\"2\" valign=\"top\">1</th>\n",
       "      <th>No</th>\n",
       "      <td>209</td>\n",
       "    </tr>\n",
       "    <tr>\n",
       "      <th>Yes</th>\n",
       "      <td>213</td>\n",
       "    </tr>\n",
       "    <tr>\n",
       "      <th rowspan=\"2\" valign=\"top\">2</th>\n",
       "      <th>No</th>\n",
       "      <td>146</td>\n",
       "    </tr>\n",
       "    <tr>\n",
       "      <th>Yes</th>\n",
       "      <td>142</td>\n",
       "    </tr>\n",
       "  </tbody>\n",
       "</table>\n",
       "</div>"
      ],
      "text/plain": [
       "                owns_car\n",
       "label owns_car          \n",
       "0     No             142\n",
       "      Yes            131\n",
       "1     No             209\n",
       "      Yes            213\n",
       "2     No             146\n",
       "      Yes            142"
      ]
     },
     "execution_count": 72,
     "metadata": {},
     "output_type": "execute_result"
    }
   ],
   "source": [
    "df3 = pd.DataFrame(cust_list.groupby(['label','owns_car'])['owns_car'].count())\n",
    "df3"
   ]
  },
  {
   "cell_type": "code",
   "execution_count": 73,
   "id": "eb10841a",
   "metadata": {},
   "outputs": [],
   "source": [
    "# In which state do the most customers of every cluster live"
   ]
  },
  {
   "cell_type": "code",
   "execution_count": 74,
   "id": "01ca9341",
   "metadata": {
    "scrolled": true
   },
   "outputs": [
    {
     "data": {
      "text/html": [
       "<div>\n",
       "<style scoped>\n",
       "    .dataframe tbody tr th:only-of-type {\n",
       "        vertical-align: middle;\n",
       "    }\n",
       "\n",
       "    .dataframe tbody tr th {\n",
       "        vertical-align: top;\n",
       "    }\n",
       "\n",
       "    .dataframe thead th {\n",
       "        text-align: right;\n",
       "    }\n",
       "</style>\n",
       "<table border=\"1\" class=\"dataframe\">\n",
       "  <thead>\n",
       "    <tr style=\"text-align: right;\">\n",
       "      <th></th>\n",
       "      <th></th>\n",
       "      <th>state</th>\n",
       "    </tr>\n",
       "    <tr>\n",
       "      <th>label</th>\n",
       "      <th>state</th>\n",
       "      <th></th>\n",
       "    </tr>\n",
       "  </thead>\n",
       "  <tbody>\n",
       "    <tr>\n",
       "      <th rowspan=\"3\" valign=\"top\">0</th>\n",
       "      <th>NSW</th>\n",
       "      <td>138</td>\n",
       "    </tr>\n",
       "    <tr>\n",
       "      <th>QLD</th>\n",
       "      <td>60</td>\n",
       "    </tr>\n",
       "    <tr>\n",
       "      <th>VIC</th>\n",
       "      <td>75</td>\n",
       "    </tr>\n",
       "    <tr>\n",
       "      <th rowspan=\"3\" valign=\"top\">1</th>\n",
       "      <th>NSW</th>\n",
       "      <td>203</td>\n",
       "    </tr>\n",
       "    <tr>\n",
       "      <th>QLD</th>\n",
       "      <td>97</td>\n",
       "    </tr>\n",
       "    <tr>\n",
       "      <th>VIC</th>\n",
       "      <td>122</td>\n",
       "    </tr>\n",
       "    <tr>\n",
       "      <th rowspan=\"3\" valign=\"top\">2</th>\n",
       "      <th>NSW</th>\n",
       "      <td>158</td>\n",
       "    </tr>\n",
       "    <tr>\n",
       "      <th>QLD</th>\n",
       "      <td>69</td>\n",
       "    </tr>\n",
       "    <tr>\n",
       "      <th>VIC</th>\n",
       "      <td>61</td>\n",
       "    </tr>\n",
       "  </tbody>\n",
       "</table>\n",
       "</div>"
      ],
      "text/plain": [
       "             state\n",
       "label state       \n",
       "0     NSW      138\n",
       "      QLD       60\n",
       "      VIC       75\n",
       "1     NSW      203\n",
       "      QLD       97\n",
       "      VIC      122\n",
       "2     NSW      158\n",
       "      QLD       69\n",
       "      VIC       61"
      ]
     },
     "execution_count": 74,
     "metadata": {},
     "output_type": "execute_result"
    }
   ],
   "source": [
    "df4 = pd.DataFrame(cust_list.groupby(['label','state'])['state'].count())\n",
    "df4"
   ]
  },
  {
   "cell_type": "code",
   "execution_count": 75,
   "id": "f7ee06bd",
   "metadata": {},
   "outputs": [],
   "source": [
    "# Does the industry category of customers' job give any insights?"
   ]
  },
  {
   "cell_type": "code",
   "execution_count": 76,
   "id": "81a1570e",
   "metadata": {
    "scrolled": false
   },
   "outputs": [
    {
     "data": {
      "text/html": [
       "<div>\n",
       "<style scoped>\n",
       "    .dataframe tbody tr th:only-of-type {\n",
       "        vertical-align: middle;\n",
       "    }\n",
       "\n",
       "    .dataframe tbody tr th {\n",
       "        vertical-align: top;\n",
       "    }\n",
       "\n",
       "    .dataframe thead th {\n",
       "        text-align: right;\n",
       "    }\n",
       "</style>\n",
       "<table border=\"1\" class=\"dataframe\">\n",
       "  <thead>\n",
       "    <tr style=\"text-align: right;\">\n",
       "      <th></th>\n",
       "      <th></th>\n",
       "      <th>job_industry_category</th>\n",
       "    </tr>\n",
       "    <tr>\n",
       "      <th>label</th>\n",
       "      <th>job_industry_category</th>\n",
       "      <th></th>\n",
       "    </tr>\n",
       "  </thead>\n",
       "  <tbody>\n",
       "    <tr>\n",
       "      <th rowspan=\"9\" valign=\"top\">0</th>\n",
       "      <th>Argiculture</th>\n",
       "      <td>5</td>\n",
       "    </tr>\n",
       "    <tr>\n",
       "      <th>Entertainment</th>\n",
       "      <td>7</td>\n",
       "    </tr>\n",
       "    <tr>\n",
       "      <th>Financial Services</th>\n",
       "      <td>106</td>\n",
       "    </tr>\n",
       "    <tr>\n",
       "      <th>Health</th>\n",
       "      <td>36</td>\n",
       "    </tr>\n",
       "    <tr>\n",
       "      <th>IT</th>\n",
       "      <td>12</td>\n",
       "    </tr>\n",
       "    <tr>\n",
       "      <th>Manufacturing</th>\n",
       "      <td>56</td>\n",
       "    </tr>\n",
       "    <tr>\n",
       "      <th>Property</th>\n",
       "      <td>16</td>\n",
       "    </tr>\n",
       "    <tr>\n",
       "      <th>Retail</th>\n",
       "      <td>28</td>\n",
       "    </tr>\n",
       "    <tr>\n",
       "      <th>Telecommunications</th>\n",
       "      <td>7</td>\n",
       "    </tr>\n",
       "    <tr>\n",
       "      <th rowspan=\"9\" valign=\"top\">1</th>\n",
       "      <th>Argiculture</th>\n",
       "      <td>13</td>\n",
       "    </tr>\n",
       "    <tr>\n",
       "      <th>Entertainment</th>\n",
       "      <td>16</td>\n",
       "    </tr>\n",
       "    <tr>\n",
       "      <th>Financial Services</th>\n",
       "      <td>153</td>\n",
       "    </tr>\n",
       "    <tr>\n",
       "      <th>Health</th>\n",
       "      <td>71</td>\n",
       "    </tr>\n",
       "    <tr>\n",
       "      <th>IT</th>\n",
       "      <td>11</td>\n",
       "    </tr>\n",
       "    <tr>\n",
       "      <th>Manufacturing</th>\n",
       "      <td>89</td>\n",
       "    </tr>\n",
       "    <tr>\n",
       "      <th>Property</th>\n",
       "      <td>29</td>\n",
       "    </tr>\n",
       "    <tr>\n",
       "      <th>Retail</th>\n",
       "      <td>30</td>\n",
       "    </tr>\n",
       "    <tr>\n",
       "      <th>Telecommunications</th>\n",
       "      <td>10</td>\n",
       "    </tr>\n",
       "    <tr>\n",
       "      <th rowspan=\"9\" valign=\"top\">2</th>\n",
       "      <th>Argiculture</th>\n",
       "      <td>8</td>\n",
       "    </tr>\n",
       "    <tr>\n",
       "      <th>Entertainment</th>\n",
       "      <td>13</td>\n",
       "    </tr>\n",
       "    <tr>\n",
       "      <th>Financial Services</th>\n",
       "      <td>108</td>\n",
       "    </tr>\n",
       "    <tr>\n",
       "      <th>Health</th>\n",
       "      <td>45</td>\n",
       "    </tr>\n",
       "    <tr>\n",
       "      <th>IT</th>\n",
       "      <td>13</td>\n",
       "    </tr>\n",
       "    <tr>\n",
       "      <th>Manufacturing</th>\n",
       "      <td>54</td>\n",
       "    </tr>\n",
       "    <tr>\n",
       "      <th>Property</th>\n",
       "      <td>19</td>\n",
       "    </tr>\n",
       "    <tr>\n",
       "      <th>Retail</th>\n",
       "      <td>20</td>\n",
       "    </tr>\n",
       "    <tr>\n",
       "      <th>Telecommunications</th>\n",
       "      <td>8</td>\n",
       "    </tr>\n",
       "  </tbody>\n",
       "</table>\n",
       "</div>"
      ],
      "text/plain": [
       "                             job_industry_category\n",
       "label job_industry_category                       \n",
       "0     Argiculture                                5\n",
       "      Entertainment                              7\n",
       "      Financial Services                       106\n",
       "      Health                                    36\n",
       "      IT                                        12\n",
       "      Manufacturing                             56\n",
       "      Property                                  16\n",
       "      Retail                                    28\n",
       "      Telecommunications                         7\n",
       "1     Argiculture                               13\n",
       "      Entertainment                             16\n",
       "      Financial Services                       153\n",
       "      Health                                    71\n",
       "      IT                                        11\n",
       "      Manufacturing                             89\n",
       "      Property                                  29\n",
       "      Retail                                    30\n",
       "      Telecommunications                        10\n",
       "2     Argiculture                                8\n",
       "      Entertainment                             13\n",
       "      Financial Services                       108\n",
       "      Health                                    45\n",
       "      IT                                        13\n",
       "      Manufacturing                             54\n",
       "      Property                                  19\n",
       "      Retail                                    20\n",
       "      Telecommunications                         8"
      ]
     },
     "execution_count": 76,
     "metadata": {},
     "output_type": "execute_result"
    }
   ],
   "source": [
    "df5 = pd.DataFrame(cust_list.groupby(['label','job_industry_category'])['job_industry_category'].count())\n",
    "df5"
   ]
  },
  {
   "cell_type": "code",
   "execution_count": 77,
   "id": "801ba201",
   "metadata": {},
   "outputs": [],
   "source": [
    "# We can see that job industry does not provide any insights in segmentation because is almost equally distributed"
   ]
  },
  {
   "cell_type": "markdown",
   "id": "c84b4213",
   "metadata": {},
   "source": [
    "### Conclusions"
   ]
  },
  {
   "cell_type": "code",
   "execution_count": null,
   "id": "1a5916fb",
   "metadata": {},
   "outputs": [],
   "source": [
    "# Cluster 0 consists of 273 customers (~27%)\n",
    "# It is the group with the younger people with average age of 34. 52% of them are males and 48% females.\n",
    "# Most of the customers leave in NSW state. Based on the exploration conducted before we know that New South Wales is the state with the most valueable properties\n",
    "# Based on purchased history customers of this segment bought around 64 items related to bikes in the past 3 years"
   ]
  },
  {
   "cell_type": "code",
   "execution_count": 78,
   "id": "d726b88d",
   "metadata": {},
   "outputs": [],
   "source": [
    "# Cluster 1 consists of 422 customers (~42%)\n",
    "# This group contains with the middle aged people with average age of 52. 65% of them are females and 35% males.\n",
    "# Most of the customers also leave in NSW state. However we can see that almost 23% of customers in this group leave in QLD. Queensland is the state with lower value properties.\n",
    "# Based on purchased history customers of this segment bought around 23 items related to bikes in the past 3 years, which is the lowest."
   ]
  },
  {
   "cell_type": "code",
   "execution_count": 79,
   "id": "8afd04c6",
   "metadata": {},
   "outputs": [],
   "source": [
    "# Cluster 2 consists of 288 customers (~28%)\n",
    "# This group contains with the older people of the segmentation with average age of 62. 53% of them are females and 47% males.\n",
    "# 54% leave in NSW state\n",
    "# Based on purchased history customers of this segment bought around 76 items related to bikes in the past 3 years which is the highest."
   ]
  },
  {
   "cell_type": "code",
   "execution_count": 81,
   "id": "ad1b1c9a",
   "metadata": {},
   "outputs": [],
   "source": [
    "# It noteworthy that customers from all three segments are long-term employees in their companies since the average tenure observed to be over 10 year for all three segments\n",
    "# A very important point is that we can understand that car ownership is equally distributed. As a result having a car or not does't seem to affect customer decision on buying bikes and bike equipment"
   ]
  },
  {
   "cell_type": "code",
   "execution_count": 82,
   "id": "44171c41",
   "metadata": {},
   "outputs": [],
   "source": [
    "# Based on this analysis we can proceed to the creation of customer personas."
   ]
  },
  {
   "cell_type": "code",
   "execution_count": null,
   "id": "59ec8d9d",
   "metadata": {},
   "outputs": [],
   "source": []
  },
  {
   "cell_type": "code",
   "execution_count": 5,
   "id": "eae3847f",
   "metadata": {},
   "outputs": [
    {
     "data": {
      "text/plain": [
       "customer_id\n",
       "1       1.718750\n",
       "3       1.718750\n",
       "2       1.718750\n",
       "4       1.703125\n",
       "5       1.703125\n",
       "          ...   \n",
       "996     0.374000\n",
       "997     0.357000\n",
       "998     0.357000\n",
       "999     0.357000\n",
       "1000    0.340000\n",
       "Name: Value, Length: 1000, dtype: float64"
      ]
     },
     "execution_count": 5,
     "metadata": {},
     "output_type": "execute_result"
    }
   ],
   "source": [
    "cust_list.groupby(['customer_id'])['Value'].sum().sort_values(ascending=False)"
   ]
  },
  {
   "cell_type": "code",
   "execution_count": null,
   "id": "75d812a7",
   "metadata": {},
   "outputs": [],
   "source": []
  }
 ],
 "metadata": {
  "kernelspec": {
   "display_name": "Python 3",
   "language": "python",
   "name": "python3"
  },
  "language_info": {
   "codemirror_mode": {
    "name": "ipython",
    "version": 3
   },
   "file_extension": ".py",
   "mimetype": "text/x-python",
   "name": "python",
   "nbconvert_exporter": "python",
   "pygments_lexer": "ipython3",
   "version": "3.8.8"
  }
 },
 "nbformat": 4,
 "nbformat_minor": 5
}
